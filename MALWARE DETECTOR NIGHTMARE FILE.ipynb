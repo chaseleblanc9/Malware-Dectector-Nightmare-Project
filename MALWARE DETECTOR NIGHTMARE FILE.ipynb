{
 "cells": [
  {
   "cell_type": "markdown",
   "metadata": {},
   "source": [
    "### Malware Detector For CSI 467 Chapter 6\n",
    "#### Examine the code to gain understanding of how the concepts of the capter are implemented in Python."
   ]
  },
  {
   "cell_type": "code",
   "execution_count": 5,
   "metadata": {},
   "outputs": [],
   "source": [
    "### Set up the directory to get the data.\n",
    "###  PROVIDE THE PATH TO YOUR FILES\n",
    "import os\n",
    "path = 'C://Users//chase//Desktop//Notebooks'\n",
    "files = os.listdir(path)\n",
    "#for file in files:\n",
    " #   print (file)\n",
    "os.chdir(path)"
   ]
  },
  {
   "cell_type": "code",
   "execution_count": 6,
   "metadata": {},
   "outputs": [],
   "source": [
    "### Libraries to do the work\n",
    "import matplotlib.pyplot as plt\n",
    "import pandas as pd\n",
    "import numpy as np\n",
    "from sklearn.model_selection import train_test_split\n",
    "from sklearn.metrics import confusion_matrix\n",
    "from sklearn.linear_model import LogisticRegression\n",
    "from sklearn import neighbors\n",
    "from sklearn import tree\n",
    "from sklearn.ensemble import RandomForestClassifier\n",
    "pd.set_option('display.max_columns', None)\n",
    "pd.set_option('display.max_rows', None)\n",
    "import warnings\n",
    "def ignore_warn(*args, **kwargs):\n",
    "    pass\n",
    "warnings.warn = ignore_warn #ignore annoying warning (from sklearn and seaborn)\n"
   ]
  },
  {
   "cell_type": "code",
   "execution_count": 7,
   "metadata": {},
   "outputs": [
    {
     "data": {
      "text/html": [
       "<div>\n",
       "<style scoped>\n",
       "    .dataframe tbody tr th:only-of-type {\n",
       "        vertical-align: middle;\n",
       "    }\n",
       "\n",
       "    .dataframe tbody tr th {\n",
       "        vertical-align: top;\n",
       "    }\n",
       "\n",
       "    .dataframe thead th {\n",
       "        text-align: right;\n",
       "    }\n",
       "</style>\n",
       "<table border=\"1\" class=\"dataframe\">\n",
       "  <thead>\n",
       "    <tr style=\"text-align: right;\">\n",
       "      <th></th>\n",
       "      <th>ID</th>\n",
       "      <th>SizeOfOptionalHeader</th>\n",
       "      <th>Characteristics</th>\n",
       "      <th>MajorLinkerVersion</th>\n",
       "      <th>MinorLinkerVersion</th>\n",
       "      <th>SizeOfCode</th>\n",
       "      <th>SizeOfInitializedData</th>\n",
       "      <th>SizeOfUninitializedData</th>\n",
       "      <th>AddressOfEntryPoint</th>\n",
       "      <th>BaseOfCode</th>\n",
       "      <th>BaseOfData</th>\n",
       "      <th>ImageBase</th>\n",
       "      <th>SectionAlignment</th>\n",
       "      <th>FileAlignment</th>\n",
       "      <th>MajorOperatingSystemVersion</th>\n",
       "      <th>MinorOperatingSystemVersion</th>\n",
       "      <th>MajorImageVersion</th>\n",
       "      <th>MinorImageVersion</th>\n",
       "      <th>MajorSubsystemVersion</th>\n",
       "      <th>MinorSubsystemVersion</th>\n",
       "      <th>SizeOfImage</th>\n",
       "      <th>SizeOfHeaders</th>\n",
       "      <th>CheckSum</th>\n",
       "      <th>Subsystem</th>\n",
       "      <th>DllCharacteristics</th>\n",
       "      <th>SizeOfStackReserve</th>\n",
       "      <th>SizeOfStackCommit</th>\n",
       "      <th>SizeOfHeapReserve</th>\n",
       "      <th>SizeOfHeapCommit</th>\n",
       "      <th>LoaderFlags</th>\n",
       "      <th>NumberOfRvaAndSizes</th>\n",
       "      <th>SectionsNb</th>\n",
       "      <th>SectionsMeanEntropy</th>\n",
       "      <th>SectionsMinEntropy</th>\n",
       "      <th>SectionsMaxEntropy</th>\n",
       "      <th>SectionsMeanRawsize</th>\n",
       "      <th>SectionsMinRawsize</th>\n",
       "      <th>SectionMaxRawsize</th>\n",
       "      <th>SectionsMeanVirtualsize</th>\n",
       "      <th>SectionsMinVirtualsize</th>\n",
       "      <th>SectionMaxVirtualsize</th>\n",
       "      <th>ImportsNbDLL</th>\n",
       "      <th>ImportsNb</th>\n",
       "      <th>ImportsNbOrdinal</th>\n",
       "      <th>ExportNb</th>\n",
       "      <th>ResourcesNb</th>\n",
       "      <th>ResourcesMeanEntropy</th>\n",
       "      <th>ResourcesMinEntropy</th>\n",
       "      <th>ResourcesMaxEntropy</th>\n",
       "      <th>ResourcesMeanSize</th>\n",
       "      <th>ResourcesMinSize</th>\n",
       "      <th>ResourcesMaxSize</th>\n",
       "      <th>LoadConfigurationSize</th>\n",
       "      <th>VersionInformationSize</th>\n",
       "      <th>legitimate</th>\n",
       "    </tr>\n",
       "  </thead>\n",
       "  <tbody>\n",
       "    <tr>\n",
       "      <th>0</th>\n",
       "      <td>1</td>\n",
       "      <td>224</td>\n",
       "      <td>8450</td>\n",
       "      <td>8.0</td>\n",
       "      <td>0</td>\n",
       "      <td>16896</td>\n",
       "      <td>8192</td>\n",
       "      <td>0</td>\n",
       "      <td>16947</td>\n",
       "      <td>4096</td>\n",
       "      <td>24576</td>\n",
       "      <td>4194304.0</td>\n",
       "      <td>4096</td>\n",
       "      <td>512</td>\n",
       "      <td>6</td>\n",
       "      <td>0</td>\n",
       "      <td>6</td>\n",
       "      <td>0</td>\n",
       "      <td>5</td>\n",
       "      <td>1</td>\n",
       "      <td>40960</td>\n",
       "      <td>1024</td>\n",
       "      <td>84427</td>\n",
       "      <td>2</td>\n",
       "      <td>320</td>\n",
       "      <td>262144</td>\n",
       "      <td>4096</td>\n",
       "      <td>1048576</td>\n",
       "      <td>4096</td>\n",
       "      <td>0</td>\n",
       "      <td>16</td>\n",
       "      <td>4</td>\n",
       "      <td>3.761598</td>\n",
       "      <td>2.446533</td>\n",
       "      <td>6.450720</td>\n",
       "      <td>6016.000000</td>\n",
       "      <td>1024</td>\n",
       "      <td>16896</td>\n",
       "      <td>6096.250000</td>\n",
       "      <td>960.0</td>\n",
       "      <td>16731</td>\n",
       "      <td>3</td>\n",
       "      <td>44</td>\n",
       "      <td>0</td>\n",
       "      <td>31</td>\n",
       "      <td>1</td>\n",
       "      <td>3.492126</td>\n",
       "      <td>3.492126</td>\n",
       "      <td>3.492126</td>\n",
       "      <td>864.0</td>\n",
       "      <td>864.0</td>\n",
       "      <td>864</td>\n",
       "      <td>72</td>\n",
       "      <td>0</td>\n",
       "      <td>1</td>\n",
       "    </tr>\n",
       "    <tr>\n",
       "      <th>1</th>\n",
       "      <td>2</td>\n",
       "      <td>224</td>\n",
       "      <td>258</td>\n",
       "      <td>9.0</td>\n",
       "      <td>0</td>\n",
       "      <td>84480</td>\n",
       "      <td>25600</td>\n",
       "      <td>0</td>\n",
       "      <td>10973</td>\n",
       "      <td>4096</td>\n",
       "      <td>90112</td>\n",
       "      <td>65536.0</td>\n",
       "      <td>4096</td>\n",
       "      <td>512</td>\n",
       "      <td>5</td>\n",
       "      <td>0</td>\n",
       "      <td>9</td>\n",
       "      <td>0</td>\n",
       "      <td>4</td>\n",
       "      <td>20</td>\n",
       "      <td>126976</td>\n",
       "      <td>1024</td>\n",
       "      <td>180181</td>\n",
       "      <td>9</td>\n",
       "      <td>320</td>\n",
       "      <td>65536</td>\n",
       "      <td>4096</td>\n",
       "      <td>1048576</td>\n",
       "      <td>4096</td>\n",
       "      <td>0</td>\n",
       "      <td>16</td>\n",
       "      <td>5</td>\n",
       "      <td>4.973822</td>\n",
       "      <td>3.269968</td>\n",
       "      <td>6.504334</td>\n",
       "      <td>22016.000000</td>\n",
       "      <td>1024</td>\n",
       "      <td>84480</td>\n",
       "      <td>21902.800000</td>\n",
       "      <td>992.0</td>\n",
       "      <td>84410</td>\n",
       "      <td>2</td>\n",
       "      <td>102</td>\n",
       "      <td>100</td>\n",
       "      <td>2</td>\n",
       "      <td>1</td>\n",
       "      <td>3.486827</td>\n",
       "      <td>3.486827</td>\n",
       "      <td>3.486827</td>\n",
       "      <td>892.0</td>\n",
       "      <td>892.0</td>\n",
       "      <td>892</td>\n",
       "      <td>72</td>\n",
       "      <td>0</td>\n",
       "      <td>1</td>\n",
       "    </tr>\n",
       "    <tr>\n",
       "      <th>2</th>\n",
       "      <td>3</td>\n",
       "      <td>224</td>\n",
       "      <td>8450</td>\n",
       "      <td>8.0</td>\n",
       "      <td>0</td>\n",
       "      <td>4608</td>\n",
       "      <td>3584</td>\n",
       "      <td>0</td>\n",
       "      <td>6452</td>\n",
       "      <td>4096</td>\n",
       "      <td>12288</td>\n",
       "      <td>264962048.0</td>\n",
       "      <td>4096</td>\n",
       "      <td>512</td>\n",
       "      <td>6</td>\n",
       "      <td>0</td>\n",
       "      <td>6</td>\n",
       "      <td>0</td>\n",
       "      <td>6</td>\n",
       "      <td>0</td>\n",
       "      <td>24576</td>\n",
       "      <td>1024</td>\n",
       "      <td>10208</td>\n",
       "      <td>2</td>\n",
       "      <td>320</td>\n",
       "      <td>262144</td>\n",
       "      <td>4096</td>\n",
       "      <td>1048576</td>\n",
       "      <td>4096</td>\n",
       "      <td>0</td>\n",
       "      <td>16</td>\n",
       "      <td>4</td>\n",
       "      <td>3.329824</td>\n",
       "      <td>0.278747</td>\n",
       "      <td>6.051986</td>\n",
       "      <td>1792.000000</td>\n",
       "      <td>512</td>\n",
       "      <td>4608</td>\n",
       "      <td>1708.000000</td>\n",
       "      <td>414.0</td>\n",
       "      <td>4294</td>\n",
       "      <td>2</td>\n",
       "      <td>27</td>\n",
       "      <td>0</td>\n",
       "      <td>3</td>\n",
       "      <td>1</td>\n",
       "      <td>3.517270</td>\n",
       "      <td>3.517270</td>\n",
       "      <td>3.517270</td>\n",
       "      <td>952.0</td>\n",
       "      <td>952.0</td>\n",
       "      <td>952</td>\n",
       "      <td>72</td>\n",
       "      <td>0</td>\n",
       "      <td>1</td>\n",
       "    </tr>\n",
       "    <tr>\n",
       "      <th>3</th>\n",
       "      <td>4</td>\n",
       "      <td>224</td>\n",
       "      <td>8450</td>\n",
       "      <td>10.0</td>\n",
       "      <td>0</td>\n",
       "      <td>108544</td>\n",
       "      <td>15872</td>\n",
       "      <td>0</td>\n",
       "      <td>105021</td>\n",
       "      <td>4096</td>\n",
       "      <td>114688</td>\n",
       "      <td>268435456.0</td>\n",
       "      <td>4096</td>\n",
       "      <td>512</td>\n",
       "      <td>6</td>\n",
       "      <td>1</td>\n",
       "      <td>8</td>\n",
       "      <td>0</td>\n",
       "      <td>6</td>\n",
       "      <td>1</td>\n",
       "      <td>143360</td>\n",
       "      <td>1024</td>\n",
       "      <td>165754</td>\n",
       "      <td>3</td>\n",
       "      <td>320</td>\n",
       "      <td>1048576</td>\n",
       "      <td>4096</td>\n",
       "      <td>1048576</td>\n",
       "      <td>4096</td>\n",
       "      <td>0</td>\n",
       "      <td>16</td>\n",
       "      <td>5</td>\n",
       "      <td>3.404831</td>\n",
       "      <td>0.160329</td>\n",
       "      <td>6.662718</td>\n",
       "      <td>24883.200000</td>\n",
       "      <td>512</td>\n",
       "      <td>108544</td>\n",
       "      <td>25645.400000</td>\n",
       "      <td>85.0</td>\n",
       "      <td>108180</td>\n",
       "      <td>12</td>\n",
       "      <td>66</td>\n",
       "      <td>0</td>\n",
       "      <td>105</td>\n",
       "      <td>2</td>\n",
       "      <td>3.270559</td>\n",
       "      <td>3.034188</td>\n",
       "      <td>3.506931</td>\n",
       "      <td>1032.0</td>\n",
       "      <td>972.0</td>\n",
       "      <td>1092</td>\n",
       "      <td>72</td>\n",
       "      <td>0</td>\n",
       "      <td>1</td>\n",
       "    </tr>\n",
       "    <tr>\n",
       "      <th>4</th>\n",
       "      <td>5</td>\n",
       "      <td>224</td>\n",
       "      <td>8226</td>\n",
       "      <td>48.0</td>\n",
       "      <td>0</td>\n",
       "      <td>513024</td>\n",
       "      <td>2048</td>\n",
       "      <td>0</td>\n",
       "      <td>520922</td>\n",
       "      <td>8192</td>\n",
       "      <td>524288</td>\n",
       "      <td>268435456.0</td>\n",
       "      <td>8192</td>\n",
       "      <td>512</td>\n",
       "      <td>4</td>\n",
       "      <td>0</td>\n",
       "      <td>0</td>\n",
       "      <td>0</td>\n",
       "      <td>6</td>\n",
       "      <td>0</td>\n",
       "      <td>540672</td>\n",
       "      <td>512</td>\n",
       "      <td>582537</td>\n",
       "      <td>3</td>\n",
       "      <td>34144</td>\n",
       "      <td>1048576</td>\n",
       "      <td>4096</td>\n",
       "      <td>1048576</td>\n",
       "      <td>4096</td>\n",
       "      <td>0</td>\n",
       "      <td>16</td>\n",
       "      <td>3</td>\n",
       "      <td>2.978056</td>\n",
       "      <td>0.101910</td>\n",
       "      <td>6.390683</td>\n",
       "      <td>171690.666667</td>\n",
       "      <td>512</td>\n",
       "      <td>513024</td>\n",
       "      <td>171265.333333</td>\n",
       "      <td>12.0</td>\n",
       "      <td>512736</td>\n",
       "      <td>1</td>\n",
       "      <td>1</td>\n",
       "      <td>0</td>\n",
       "      <td>0</td>\n",
       "      <td>1</td>\n",
       "      <td>3.420977</td>\n",
       "      <td>3.420977</td>\n",
       "      <td>3.420977</td>\n",
       "      <td>954.0</td>\n",
       "      <td>954.0</td>\n",
       "      <td>954</td>\n",
       "      <td>0</td>\n",
       "      <td>0</td>\n",
       "      <td>1</td>\n",
       "    </tr>\n",
       "  </tbody>\n",
       "</table>\n",
       "</div>"
      ],
      "text/plain": [
       "   ID  SizeOfOptionalHeader  Characteristics  MajorLinkerVersion  \\\n",
       "0   1                   224             8450                 8.0   \n",
       "1   2                   224              258                 9.0   \n",
       "2   3                   224             8450                 8.0   \n",
       "3   4                   224             8450                10.0   \n",
       "4   5                   224             8226                48.0   \n",
       "\n",
       "   MinorLinkerVersion  SizeOfCode  SizeOfInitializedData  \\\n",
       "0                   0       16896                   8192   \n",
       "1                   0       84480                  25600   \n",
       "2                   0        4608                   3584   \n",
       "3                   0      108544                  15872   \n",
       "4                   0      513024                   2048   \n",
       "\n",
       "   SizeOfUninitializedData  AddressOfEntryPoint  BaseOfCode  BaseOfData  \\\n",
       "0                        0                16947        4096       24576   \n",
       "1                        0                10973        4096       90112   \n",
       "2                        0                 6452        4096       12288   \n",
       "3                        0               105021        4096      114688   \n",
       "4                        0               520922        8192      524288   \n",
       "\n",
       "     ImageBase  SectionAlignment  FileAlignment  MajorOperatingSystemVersion  \\\n",
       "0    4194304.0              4096            512                            6   \n",
       "1      65536.0              4096            512                            5   \n",
       "2  264962048.0              4096            512                            6   \n",
       "3  268435456.0              4096            512                            6   \n",
       "4  268435456.0              8192            512                            4   \n",
       "\n",
       "   MinorOperatingSystemVersion  MajorImageVersion  MinorImageVersion  \\\n",
       "0                            0                  6                  0   \n",
       "1                            0                  9                  0   \n",
       "2                            0                  6                  0   \n",
       "3                            1                  8                  0   \n",
       "4                            0                  0                  0   \n",
       "\n",
       "   MajorSubsystemVersion  MinorSubsystemVersion  SizeOfImage  SizeOfHeaders  \\\n",
       "0                      5                      1        40960           1024   \n",
       "1                      4                     20       126976           1024   \n",
       "2                      6                      0        24576           1024   \n",
       "3                      6                      1       143360           1024   \n",
       "4                      6                      0       540672            512   \n",
       "\n",
       "   CheckSum  Subsystem  DllCharacteristics  SizeOfStackReserve  \\\n",
       "0     84427          2                 320              262144   \n",
       "1    180181          9                 320               65536   \n",
       "2     10208          2                 320              262144   \n",
       "3    165754          3                 320             1048576   \n",
       "4    582537          3               34144             1048576   \n",
       "\n",
       "   SizeOfStackCommit  SizeOfHeapReserve  SizeOfHeapCommit  LoaderFlags  \\\n",
       "0               4096            1048576              4096            0   \n",
       "1               4096            1048576              4096            0   \n",
       "2               4096            1048576              4096            0   \n",
       "3               4096            1048576              4096            0   \n",
       "4               4096            1048576              4096            0   \n",
       "\n",
       "   NumberOfRvaAndSizes  SectionsNb  SectionsMeanEntropy  SectionsMinEntropy  \\\n",
       "0                   16           4             3.761598            2.446533   \n",
       "1                   16           5             4.973822            3.269968   \n",
       "2                   16           4             3.329824            0.278747   \n",
       "3                   16           5             3.404831            0.160329   \n",
       "4                   16           3             2.978056            0.101910   \n",
       "\n",
       "   SectionsMaxEntropy  SectionsMeanRawsize  SectionsMinRawsize  \\\n",
       "0            6.450720          6016.000000                1024   \n",
       "1            6.504334         22016.000000                1024   \n",
       "2            6.051986          1792.000000                 512   \n",
       "3            6.662718         24883.200000                 512   \n",
       "4            6.390683        171690.666667                 512   \n",
       "\n",
       "   SectionMaxRawsize  SectionsMeanVirtualsize  SectionsMinVirtualsize  \\\n",
       "0              16896              6096.250000                   960.0   \n",
       "1              84480             21902.800000                   992.0   \n",
       "2               4608              1708.000000                   414.0   \n",
       "3             108544             25645.400000                    85.0   \n",
       "4             513024            171265.333333                    12.0   \n",
       "\n",
       "   SectionMaxVirtualsize  ImportsNbDLL  ImportsNb  ImportsNbOrdinal  ExportNb  \\\n",
       "0                  16731             3         44                 0        31   \n",
       "1                  84410             2        102               100         2   \n",
       "2                   4294             2         27                 0         3   \n",
       "3                 108180            12         66                 0       105   \n",
       "4                 512736             1          1                 0         0   \n",
       "\n",
       "   ResourcesNb  ResourcesMeanEntropy  ResourcesMinEntropy  \\\n",
       "0            1              3.492126             3.492126   \n",
       "1            1              3.486827             3.486827   \n",
       "2            1              3.517270             3.517270   \n",
       "3            2              3.270559             3.034188   \n",
       "4            1              3.420977             3.420977   \n",
       "\n",
       "   ResourcesMaxEntropy  ResourcesMeanSize  ResourcesMinSize  ResourcesMaxSize  \\\n",
       "0             3.492126              864.0             864.0               864   \n",
       "1             3.486827              892.0             892.0               892   \n",
       "2             3.517270              952.0             952.0               952   \n",
       "3             3.506931             1032.0             972.0              1092   \n",
       "4             3.420977              954.0             954.0               954   \n",
       "\n",
       "   LoadConfigurationSize  VersionInformationSize  legitimate  \n",
       "0                     72                       0           1  \n",
       "1                     72                       0           1  \n",
       "2                     72                       0           1  \n",
       "3                     72                       0           1  \n",
       "4                      0                       0           1  "
      ]
     },
     "execution_count": 7,
     "metadata": {},
     "output_type": "execute_result"
    }
   ],
   "source": [
    "# Get the data file\n",
    "data = pd.read_csv(r'Malwaredata.csv',engine='python')\n",
    "data.drop(['Unnamed: 57','Machine','md5'], axis=1, inplace=True)    # drop 2 useless columns\n",
    "data.dropna(axis=0, inplace=True)                                   #drop the 1 row with missing values\n",
    "### view the first 5 rows\n",
    "data.head()"
   ]
  },
  {
   "cell_type": "code",
   "execution_count": 8,
   "metadata": {},
   "outputs": [
    {
     "data": {
      "text/plain": [
       "(216351, 55)"
      ]
     },
     "execution_count": 8,
     "metadata": {},
     "output_type": "execute_result"
    }
   ],
   "source": [
    "##  Get the number of rows and columns\n",
    "data.shape"
   ]
  },
  {
   "cell_type": "code",
   "execution_count": 9,
   "metadata": {},
   "outputs": [],
   "source": [
    "###  Create a training set with 80% and testing set with 20% of the data\n",
    "X=data.copy()\n",
    "y=X['legitimate']                ### this is the variable we are trying to predict 0=Benign, 1=malware\n",
    "X.drop(['legitimate'], axis=1, inplace=True)\n",
    "Xtrain, Xtest, ytrain, ytest = train_test_split(X, y, random_state=42, test_size=0.2)"
   ]
  },
  {
   "cell_type": "code",
   "execution_count": 10,
   "metadata": {},
   "outputs": [],
   "source": [
    "def plot_confusion_matrix(cm, target_names,title='Confusion matrix',cmap=None,normalize=True):\n",
    "    \"\"\" given a sklearn confusion matrix (cm), make a nice plot\n",
    "    Arguments\n",
    "    ---------\n",
    "    cm:           confusion matrix from sklearn.metrics.confusion_matrix\n",
    "    target_names: given classification classes such as [0, 1, 2]\n",
    "                  the class names, for example: ['high', 'medium', 'low']\n",
    "    title:        the text to display at the top of the matrix\n",
    "    cmap:         the gradient of the values displayed from matplotlib.pyplot.cm\n",
    "                  see http://matplotlib.org/examples/color/colormaps_reference.html\n",
    "                  plt.get_cmap('jet') or plt.cm.Blues\n",
    "    normalize:    If False, plot the raw numbers\n",
    "                  If True, plot the proportions\n",
    "    Usage\n",
    "    -----\n",
    "    plot_confusion_matrix(cm           = cm,                  # confusion matrix created by\n",
    "                                                              # sklearn.metrics.confusion_matrix\n",
    "                          normalize    = True,                # show proportions\n",
    "                          target_names = y_labels_vals,       # list of names of the classes\n",
    "                          title        = best_estimator_name) # title of graph\n",
    "    Citiation\n",
    "    ---------\n",
    "    http://scikit-learn.org/stable/auto_examples/model_selection/plot_confusion_matrix.html\n",
    "    \"\"\"\n",
    "    import matplotlib.pyplot as plt\n",
    "    import numpy as np\n",
    "    import itertools\n",
    "\n",
    "    accuracy = np.trace(cm) / float(np.sum(cm))\n",
    "    misclass = 1 - accuracy\n",
    "\n",
    "    if cmap is None:\n",
    "        cmap = plt.get_cmap('Blues')\n",
    "\n",
    "    plt.figure(figsize=(8, 6))\n",
    "    plt.imshow(cm, interpolation='nearest', cmap=cmap)\n",
    "    plt.title(title)\n",
    "    plt.colorbar()\n",
    "\n",
    "    if target_names is not None:\n",
    "        tick_marks = np.arange(len(target_names))\n",
    "        plt.xticks(tick_marks, target_names, rotation=45)\n",
    "        plt.yticks(tick_marks, target_names)\n",
    "\n",
    "    if normalize:\n",
    "        cm = cm.astype('float') / cm.sum(axis=1)[:, np.newaxis]\n",
    "\n",
    "\n",
    "    thresh = cm.max() / 1.5 if normalize else cm.max() / 2\n",
    "    for i, j in itertools.product(range(cm.shape[0]), range(cm.shape[1])):\n",
    "        if normalize:\n",
    "            plt.text(j, i, \"{:0.4f}\".format(cm[i, j]),\n",
    "                     horizontalalignment=\"center\",\n",
    "                     color=\"white\" if cm[i, j] > thresh else \"black\")\n",
    "        else:\n",
    "            plt.text(j, i, \"{:,}\".format(cm[i, j]),\n",
    "                     horizontalalignment=\"center\",\n",
    "                     color=\"white\" if cm[i, j] > thresh else \"black\")\n",
    "\n",
    "\n",
    "    plt.tight_layout()\n",
    "    plt.ylabel('True label')\n",
    "    plt.xlabel('Predicted label\\naccuracy={:0.4f}; misclass={:0.4f}'.format(accuracy, misclass))\n",
    "    plt.show()"
   ]
  },
  {
   "cell_type": "markdown",
   "metadata": {},
   "source": [
    "### Logistic Regression"
   ]
  },
  {
   "cell_type": "code",
   "execution_count": 11,
   "metadata": {},
   "outputs": [
    {
     "name": "stdout",
     "output_type": "stream",
     "text": [
      "Predicted:  [43271     0]\n",
      "True:  [28163 15108]\n",
      "              precision    recall  f1-score   support\n",
      "\n",
      "           0       0.65      1.00      0.79     28163\n",
      "           1       0.00      0.00      0.00     15108\n",
      "\n",
      "    accuracy                           0.65     43271\n",
      "   macro avg       0.33      0.50      0.39     43271\n",
      "weighted avg       0.42      0.65      0.51     43271\n",
      "\n"
     ]
    },
    {
     "data": {
      "image/png": "[encoded data removed]",
      "text/plain": [
       "<Figure size 576x432 with 2 Axes>"
      ]
     },
     "metadata": {
      "needs_background": "light"
     },
     "output_type": "display_data"
    }
   ],
   "source": [
    "LR = LogisticRegression(random_state=0).fit(Xtrain, ytrain)\n",
    "pred = LR.predict(Xtest)\n",
    "lab=[0,1]\n",
    "\n",
    "mat = confusion_matrix(ytest, pred, labels=lab)\n",
    "print(\"Predicted: \",np.sum(mat, axis=0))\n",
    "print(\"True: \",np.sum(mat, axis=1))\n",
    "\n",
    "from sklearn.metrics import classification_report\n",
    "\n",
    "print(classification_report(ytest, pred, labels=lab))\n",
    "\n",
    "plot_confusion_matrix(mat,  lab,title='Confusion matrix',  cmap=None,  normalize=False)"
   ]
  },
  {
   "cell_type": "markdown",
   "metadata": {},
   "source": [
    "### K-Nearest Neighbors"
   ]
  },
  {
   "cell_type": "code",
   "execution_count": 12,
   "metadata": {},
   "outputs": [
    {
     "name": "stdout",
     "output_type": "stream",
     "text": [
      "Predicted:  [28105 15166]\n",
      "True:  [28163 15108]\n"
     ]
    },
    {
     "data": {
      "image/png": "[encoded data removed]",
      "text/plain": [
       "<Figure size 576x432 with 2 Axes>"
      ]
     },
     "metadata": {
      "needs_background": "light"
     },
     "output_type": "display_data"
    },
    {
     "name": "stdout",
     "output_type": "stream",
     "text": [
      "              precision    recall  f1-score   support\n",
      "\n",
      "           0       0.99      0.99      0.99     28163\n",
      "           1       0.98      0.98      0.98     15108\n",
      "\n",
      "    accuracy                           0.99     43271\n",
      "   macro avg       0.98      0.99      0.98     43271\n",
      "weighted avg       0.99      0.99      0.99     43271\n",
      "\n"
     ]
    }
   ],
   "source": [
    "n_neighbors = 5\n",
    "weights = 'distance'  #'uniform'\n",
    "# we create an instance of Neighbours Classifier and fit the data.\n",
    "KNN = neighbors.KNeighborsClassifier(n_neighbors, weights=weights).fit(Xtrain, ytrain)\n",
    "pred = KNN.predict(Xtest)\n",
    "lab=[0,1]\n",
    "\n",
    "mat = confusion_matrix(ytest, pred, labels=lab)\n",
    "print(\"Predicted: \",np.sum(mat, axis=0))\n",
    "print(\"True: \",np.sum(mat, axis=1))\n",
    "plot_confusion_matrix(mat,  lab,title='Confusion matrix',  cmap=None,  normalize=False)\n",
    "\n",
    "from sklearn.metrics import classification_report\n",
    "\n",
    "print(classification_report(ytest, pred, labels=lab))\n",
    "\n",
    "\n"
   ]
  },
  {
   "cell_type": "code",
   "execution_count": 13,
   "metadata": {},
   "outputs": [
    {
     "name": "stdout",
     "output_type": "stream",
     "text": [
      "Predicted:  [28088 15183]\n",
      "True:  [28163 15108]\n"
     ]
    },
    {
     "data": {
      "image/png": "[encoded data removed]",
      "text/plain": [
       "<Figure size 576x432 with 2 Axes>"
      ]
     },
     "metadata": {
      "needs_background": "light"
     },
     "output_type": "display_data"
    },
    {
     "name": "stdout",
     "output_type": "stream",
     "text": [
      "              precision    recall  f1-score   support\n",
      "\n",
      "           0       0.99      0.99      0.99     28163\n",
      "           1       0.97      0.98      0.98     15108\n",
      "\n",
      "    accuracy                           0.98     43271\n",
      "   macro avg       0.98      0.98      0.98     43271\n",
      "weighted avg       0.98      0.98      0.98     43271\n",
      "\n"
     ]
    }
   ],
   "source": [
    "n_neighbors = 5\n",
    "weights = 'uniform'  #'uniform'\n",
    "# we create an instance of Neighbours Classifier and fit the data.\n",
    "KNN = neighbors.KNeighborsClassifier(n_neighbors, weights=weights).fit(Xtrain, ytrain)\n",
    "pred = KNN.predict(Xtest)\n",
    "lab=[0,1]\n",
    "\n",
    "mat = confusion_matrix(ytest, pred, labels=lab)\n",
    "print(\"Predicted: \",np.sum(mat, axis=0))\n",
    "print(\"True: \",np.sum(mat, axis=1))\n",
    "plot_confusion_matrix(mat,  lab,title='Confusion matrix',  cmap=None,  normalize=False)\n",
    "\n",
    "from sklearn.metrics import classification_report\n",
    "\n",
    "print(classification_report(ytest, pred, labels=lab))\n",
    "\n"
   ]
  },
  {
   "cell_type": "code",
   "execution_count": 14,
   "metadata": {},
   "outputs": [
    {
     "name": "stdout",
     "output_type": "stream",
     "text": [
      "Predicted:  [28144 15127]\n",
      "True:  [28163 15108]\n"
     ]
    },
    {
     "data": {
      "image/png": "[encoded data removed]",
      "text/plain": [
       "<Figure size 576x432 with 2 Axes>"
      ]
     },
     "metadata": {
      "needs_background": "light"
     },
     "output_type": "display_data"
    },
    {
     "name": "stdout",
     "output_type": "stream",
     "text": [
      "              precision    recall  f1-score   support\n",
      "\n",
      "           0       0.99      0.99      0.99     28163\n",
      "           1       0.98      0.98      0.98     15108\n",
      "\n",
      "    accuracy                           0.98     43271\n",
      "   macro avg       0.98      0.98      0.98     43271\n",
      "weighted avg       0.98      0.98      0.98     43271\n",
      "\n"
     ]
    }
   ],
   "source": [
    "n_neighbors = 15\n",
    "weights = 'distance'  #'uniform'\n",
    "# we create an instance of Neighbours Classifier and fit the data.\n",
    "KNN = neighbors.KNeighborsClassifier(n_neighbors, weights=weights).fit(Xtrain, ytrain)\n",
    "pred = KNN.predict(Xtest)\n",
    "lab=[0,1]\n",
    "\n",
    "mat = confusion_matrix(ytest, pred, labels=lab)\n",
    "print(\"Predicted: \",np.sum(mat, axis=0))\n",
    "print(\"True: \",np.sum(mat, axis=1))\n",
    "plot_confusion_matrix(mat,  lab,title='Confusion matrix',  cmap=None,  normalize=False)\n",
    "\n",
    "from sklearn.metrics import classification_report\n",
    "\n",
    "print(classification_report(ytest, pred, labels=lab))\n"
   ]
  },
  {
   "cell_type": "code",
   "execution_count": 15,
   "metadata": {},
   "outputs": [
    {
     "name": "stdout",
     "output_type": "stream",
     "text": [
      "Predicted:  [28081 15190]\n",
      "True:  [28163 15108]\n"
     ]
    },
    {
     "data": {
      "image/png": "[encoded data removed]",
      "text/plain": [
       "<Figure size 576x432 with 2 Axes>"
      ]
     },
     "metadata": {
      "needs_background": "light"
     },
     "output_type": "display_data"
    },
    {
     "name": "stdout",
     "output_type": "stream",
     "text": [
      "              precision    recall  f1-score   support\n",
      "\n",
      "           0       0.99      0.98      0.98     28163\n",
      "           1       0.97      0.97      0.97     15108\n",
      "\n",
      "    accuracy                           0.98     43271\n",
      "   macro avg       0.98      0.98      0.98     43271\n",
      "weighted avg       0.98      0.98      0.98     43271\n",
      "\n"
     ]
    }
   ],
   "source": [
    "n_neighbors = 15\n",
    "weights = 'uniform'  #'uniform'\n",
    "# we create an instance of Neighbours Classifier and fit the data.\n",
    "KNN = neighbors.KNeighborsClassifier(n_neighbors, weights=weights).fit(Xtrain, ytrain)\n",
    "pred = KNN.predict(Xtest)\n",
    "lab=[0,1]\n",
    "\n",
    "mat = confusion_matrix(ytest, pred, labels=lab)\n",
    "print(\"Predicted: \",np.sum(mat, axis=0))\n",
    "print(\"True: \",np.sum(mat, axis=1))\n",
    "plot_confusion_matrix(mat,  lab,title='Confusion matrix',  cmap=None,  normalize=False)\n",
    "\n",
    "from sklearn.metrics import classification_report\n",
    "\n",
    "print(classification_report(ytest, pred, labels=lab))"
   ]
  },
  {
   "cell_type": "code",
   "execution_count": 16,
   "metadata": {},
   "outputs": [
    {
     "name": "stdout",
     "output_type": "stream",
     "text": [
      "Predicted:  [28211 15060]\n",
      "True:  [28163 15108]\n"
     ]
    },
    {
     "data": {
      "image/png": "[encoded data removed]",
      "text/plain": [
       "<Figure size 576x432 with 2 Axes>"
      ]
     },
     "metadata": {
      "needs_background": "light"
     },
     "output_type": "display_data"
    },
    {
     "name": "stdout",
     "output_type": "stream",
     "text": [
      "              precision    recall  f1-score   support\n",
      "\n",
      "           0       0.98      0.98      0.98     28163\n",
      "           1       0.97      0.97      0.97     15108\n",
      "\n",
      "    accuracy                           0.98     43271\n",
      "   macro avg       0.98      0.97      0.97     43271\n",
      "weighted avg       0.98      0.98      0.98     43271\n",
      "\n"
     ]
    }
   ],
   "source": [
    "n_neighbors = 100\n",
    "weights = 'distance'  #'uniform'\n",
    "# we create an instance of Neighbours Classifier and fit the data.\n",
    "KNN = neighbors.KNeighborsClassifier(n_neighbors, weights=weights).fit(Xtrain, ytrain)\n",
    "pred = KNN.predict(Xtest)\n",
    "lab=[0,1]\n",
    "\n",
    "mat = confusion_matrix(ytest, pred, labels=lab)\n",
    "print(\"Predicted: \",np.sum(mat, axis=0))\n",
    "print(\"True: \",np.sum(mat, axis=1))\n",
    "plot_confusion_matrix(mat,  lab,title='Confusion matrix',  cmap=None,  normalize=False)\n",
    "\n",
    "from sklearn.metrics import classification_report\n",
    "\n",
    "print(classification_report(ytest, pred, labels=lab))"
   ]
  },
  {
   "cell_type": "code",
   "execution_count": null,
   "metadata": {},
   "outputs": [],
   "source": []
  },
  {
   "cell_type": "code",
   "execution_count": 17,
   "metadata": {},
   "outputs": [
    {
     "name": "stdout",
     "output_type": "stream",
     "text": [
      "Predicted:  [28115 15156]\n",
      "True:  [28163 15108]\n"
     ]
    },
    {
     "data": {
      "image/png": "[encoded data removed]",
      "text/plain": [
       "<Figure size 576x432 with 2 Axes>"
      ]
     },
     "metadata": {
      "needs_background": "light"
     },
     "output_type": "display_data"
    },
    {
     "name": "stdout",
     "output_type": "stream",
     "text": [
      "              precision    recall  f1-score   support\n",
      "\n",
      "           0       0.97      0.97      0.97     28163\n",
      "           1       0.95      0.95      0.95     15108\n",
      "\n",
      "    accuracy                           0.97     43271\n",
      "   macro avg       0.96      0.96      0.96     43271\n",
      "weighted avg       0.97      0.97      0.97     43271\n",
      "\n"
     ]
    }
   ],
   "source": [
    "\n",
    "n_neighbors = 100\n",
    "weights = 'uniform'  #'uniform'\n",
    "# we create an instance of Neighbours Classifier and fit the data.\n",
    "KNN = neighbors.KNeighborsClassifier(n_neighbors, weights=weights).fit(Xtrain, ytrain)\n",
    "pred = KNN.predict(Xtest)\n",
    "lab=[0,1]\n",
    "\n",
    "mat = confusion_matrix(ytest, pred, labels=lab)\n",
    "print(\"Predicted: \",np.sum(mat, axis=0))\n",
    "print(\"True: \",np.sum(mat, axis=1))\n",
    "plot_confusion_matrix(mat,  lab,title='Confusion matrix',  cmap=None,  normalize=False)\n",
    "\n",
    "from sklearn.metrics import classification_report\n",
    "\n",
    "print(classification_report(ytest, pred, labels=lab))"
   ]
  },
  {
   "cell_type": "code",
   "execution_count": 18,
   "metadata": {},
   "outputs": [
    {
     "name": "stdout",
     "output_type": "stream",
     "text": [
      "Predicted:  [28112 15159]\n",
      "True:  [28163 15108]\n"
     ]
    },
    {
     "data": {
      "image/png": "[encoded data removed]",
      "text/plain": [
       "<Figure size 576x432 with 2 Axes>"
      ]
     },
     "metadata": {
      "needs_background": "light"
     },
     "output_type": "display_data"
    },
    {
     "name": "stdout",
     "output_type": "stream",
     "text": [
      "              precision    recall  f1-score   support\n",
      "\n",
      "           0       0.98      0.97      0.97     28163\n",
      "           1       0.95      0.95      0.95     15108\n",
      "\n",
      "    accuracy                           0.97     43271\n",
      "   macro avg       0.96      0.96      0.96     43271\n",
      "weighted avg       0.97      0.97      0.97     43271\n",
      "\n"
     ]
    }
   ],
   "source": [
    "n_neighbors = 500\n",
    "weights = 'distance'  #'uniform'\n",
    "# we create an instance of Neighbours Classifier and fit the data.\n",
    "KNN = neighbors.KNeighborsClassifier(n_neighbors, weights=weights).fit(Xtrain, ytrain)\n",
    "pred = KNN.predict(Xtest)\n",
    "lab=[0,1]\n",
    "\n",
    "mat = confusion_matrix(ytest, pred, labels=lab)\n",
    "print(\"Predicted: \",np.sum(mat, axis=0))\n",
    "print(\"True: \",np.sum(mat, axis=1))\n",
    "plot_confusion_matrix(mat,  lab,title='Confusion matrix',  cmap=None,  normalize=False)\n",
    "\n",
    "from sklearn.metrics import classification_report\n",
    "\n",
    "print(classification_report(ytest, pred, labels=lab))"
   ]
  },
  {
   "cell_type": "code",
   "execution_count": 19,
   "metadata": {},
   "outputs": [
    {
     "name": "stdout",
     "output_type": "stream",
     "text": [
      "Predicted:  [27973 15298]\n",
      "True:  [28163 15108]\n"
     ]
    },
    {
     "data": {
      "image/png": "[encoded data removed]",
      "text/plain": [
       "<Figure size 576x432 with 2 Axes>"
      ]
     },
     "metadata": {
      "needs_background": "light"
     },
     "output_type": "display_data"
    },
    {
     "name": "stdout",
     "output_type": "stream",
     "text": [
      "              precision    recall  f1-score   support\n",
      "\n",
      "           0       0.97      0.96      0.96     28163\n",
      "           1       0.92      0.94      0.93     15108\n",
      "\n",
      "    accuracy                           0.95     43271\n",
      "   macro avg       0.95      0.95      0.95     43271\n",
      "weighted avg       0.95      0.95      0.95     43271\n",
      "\n"
     ]
    }
   ],
   "source": [
    "n_neighbors = 500\n",
    "weights = 'uniform'  #'uniform'\n",
    "# we create an instance of Neighbours Classifier and fit the data.\n",
    "KNN = neighbors.KNeighborsClassifier(n_neighbors, weights=weights).fit(Xtrain, ytrain)\n",
    "pred = KNN.predict(Xtest)\n",
    "lab=[0,1]\n",
    "\n",
    "mat = confusion_matrix(ytest, pred, labels=lab)\n",
    "print(\"Predicted: \",np.sum(mat, axis=0))\n",
    "print(\"True: \",np.sum(mat, axis=1))\n",
    "plot_confusion_matrix(mat,  lab,title='Confusion matrix',  cmap=None,  normalize=False)\n",
    "\n",
    "from sklearn.metrics import classification_report\n",
    "\n",
    "print(classification_report(ytest, pred, labels=lab))"
   ]
  },
  {
   "cell_type": "markdown",
   "metadata": {},
   "source": [
    "### Decision Tree"
   ]
  },
  {
   "cell_type": "code",
   "execution_count": 20,
   "metadata": {},
   "outputs": [
    {
     "name": "stdout",
     "output_type": "stream",
     "text": [
      "Predicted:  [28170 15101]\n",
      "True:  [28163 15108]\n"
     ]
    },
    {
     "data": {
      "image/png": "[encoded data removed]",
      "text/plain": [
       "<Figure size 576x432 with 2 Axes>"
      ]
     },
     "metadata": {
      "needs_background": "light"
     },
     "output_type": "display_data"
    },
    {
     "name": "stdout",
     "output_type": "stream",
     "text": [
      "              precision    recall  f1-score   support\n",
      "\n",
      "           0       1.00      1.00      1.00     28163\n",
      "           1       1.00      1.00      1.00     15108\n",
      "\n",
      "    accuracy                           1.00     43271\n",
      "   macro avg       1.00      1.00      1.00     43271\n",
      "weighted avg       1.00      1.00      1.00     43271\n",
      "\n"
     ]
    }
   ],
   "source": [
    "DT = tree.DecisionTreeClassifier(criterion = 'gini', max_depth=20).fit(Xtrain, ytrain)\n",
    "pred = DT.predict(Xtest)\n",
    "lab=[0,1]\n",
    "\n",
    "mat = confusion_matrix(ytest, pred, labels=lab)\n",
    "print(\"Predicted: \",np.sum(mat, axis=0))\n",
    "print(\"True: \",np.sum(mat, axis=1))\n",
    "plot_confusion_matrix(mat,  lab,title='Confusion matrix',  cmap=None,  normalize=False)\n",
    "\n",
    "from sklearn.metrics import classification_report\n",
    "\n",
    "print(classification_report(ytest, pred, labels=lab))"
   ]
  },
  {
   "cell_type": "code",
   "execution_count": 21,
   "metadata": {},
   "outputs": [
    {
     "name": "stdout",
     "output_type": "stream",
     "text": [
      "Predicted:  [28165 15106]\n",
      "True:  [28163 15108]\n"
     ]
    },
    {
     "data": {
      "image/png": "[encoded data removed]",
      "text/plain": [
       "<Figure size 576x432 with 2 Axes>"
      ]
     },
     "metadata": {
      "needs_background": "light"
     },
     "output_type": "display_data"
    },
    {
     "name": "stdout",
     "output_type": "stream",
     "text": [
      "              precision    recall  f1-score   support\n",
      "\n",
      "           0       1.00      1.00      1.00     28163\n",
      "           1       1.00      1.00      1.00     15108\n",
      "\n",
      "    accuracy                           1.00     43271\n",
      "   macro avg       1.00      1.00      1.00     43271\n",
      "weighted avg       1.00      1.00      1.00     43271\n",
      "\n"
     ]
    }
   ],
   "source": [
    "DT = tree.DecisionTreeClassifier(criterion = 'entropy', max_depth=20).fit(Xtrain, ytrain)\n",
    "pred = DT.predict(Xtest)\n",
    "lab=[0,1]\n",
    "\n",
    "mat = confusion_matrix(ytest, pred, labels=lab)\n",
    "print(\"Predicted: \",np.sum(mat, axis=0))\n",
    "print(\"True: \",np.sum(mat, axis=1))\n",
    "plot_confusion_matrix(mat,  lab,title='Confusion matrix',  cmap=None,  normalize=False)\n",
    "\n",
    "from sklearn.metrics import classification_report\n",
    "\n",
    "print(classification_report(ytest, pred, labels=lab))"
   ]
  },
  {
   "cell_type": "markdown",
   "metadata": {},
   "source": [
    "### Random Forest"
   ]
  },
  {
   "cell_type": "code",
   "execution_count": 22,
   "metadata": {},
   "outputs": [
    {
     "name": "stdout",
     "output_type": "stream",
     "text": [
      "Predicted:  [28175 15096]\n",
      "True:  [28163 15108]\n",
      "              precision    recall  f1-score   support\n",
      "\n",
      "           0       1.00      1.00      1.00     28163\n",
      "           1       1.00      1.00      1.00     15108\n",
      "\n",
      "    accuracy                           1.00     43271\n",
      "   macro avg       1.00      1.00      1.00     43271\n",
      "weighted avg       1.00      1.00      1.00     43271\n",
      "\n"
     ]
    },
    {
     "data": {
      "image/png": "[encoded data removed]",
      "text/plain": [
       "<Figure size 576x432 with 2 Axes>"
      ]
     },
     "metadata": {
      "needs_background": "light"
     },
     "output_type": "display_data"
    }
   ],
   "source": [
    "RF = RandomForestClassifier(bootstrap=True, class_weight=None, criterion='gini',\n",
    "            max_depth=None, max_features='auto', max_leaf_nodes=None,\n",
    "            min_impurity_decrease=0.0, min_impurity_split=None,\n",
    "            min_samples_leaf=1, min_samples_split=2,\n",
    "            min_weight_fraction_leaf=0.0, n_estimators=100, n_jobs=1,\n",
    "            oob_score=False, random_state=None, verbose=0,\n",
    "            warm_start=False)\n",
    "\n",
    "RF.fit(Xtrain,ytrain)\n",
    "\n",
    "pred = RF.predict(Xtest)\n",
    "lab=[0,1]\n",
    "\n",
    "mat = confusion_matrix(ytest, pred, labels=lab)\n",
    "print(\"Predicted: \",np.sum(mat, axis=0))\n",
    "print(\"True: \",np.sum(mat, axis=1))\n",
    "\n",
    "from sklearn.metrics import classification_report\n",
    "\n",
    "print(classification_report(ytest, pred, labels=lab))\n",
    "\n",
    "plot_confusion_matrix(mat,  lab,title='Confusion matrix',  cmap=None,  normalize=False)\n",
    "\n",
    "\n",
    "\n"
   ]
  },
  {
   "cell_type": "markdown",
   "metadata": {},
   "source": [
    "Homework 8 3 Fold"
   ]
  },
  {
   "cell_type": "code",
   "execution_count": 23,
   "metadata": {},
   "outputs": [
    {
     "data": {
      "image/png": "[encoded data removed]",
      "text/plain": [
       "<Figure size 432x288 with 1 Axes>"
      ]
     },
     "metadata": {
      "needs_background": "light"
     },
     "output_type": "display_data"
    }
   ],
   "source": [
    "def Crossvalof3(X,y):\n",
    "    import random\n",
    "    from sklearn import metrics\n",
    "    from matplotlib import pyplot\n",
    "    from sklearn.model_selection import KFold\n",
    "    X, y = np.array(X), np.array(y)\n",
    "    fold_counter = 0\n",
    "    kf = KFold(n_splits=3)\n",
    "   # kf = KFold(n_splits=3, shuffle=True, random_state=0)\n",
    "    for train, test in kf.split(X):\n",
    "  #  for train, test in KFold(len(X),3,shuffle=True):\n",
    "        training_X, training_y = X[train], y[train]\n",
    "        test_X, test_y = X[test], y[test]\n",
    "        \n",
    "        classifier = RandomForestClassifier()\n",
    "        classifier.fit(training_X,training_y)\n",
    "        scores = classifier.predict_proba(test_X)[:,-1]\n",
    "        fpr, tpr, thresholds = metrics.roc_curve(test_y, scores)\n",
    "        pyplot.semilogx(fpr,tpr,label=\"Fold number {0}\".format(fold_counter))\n",
    "        fold_counter += 1\n",
    "\n",
    " \n",
    "\n",
    "\n",
    "    \n",
    "    pyplot.xlabel(\"Detector false positive rate\")\n",
    "    pyplot.ylabel(\"Detector true positive rate\")\n",
    "    pyplot.title(\"Cross-Validation Detector ROC Curve\")\n",
    "    pyplot.legend()\n",
    "    pyplot.grid()\n",
    "    pyplot.show()\n",
    "Crossvalof3(X,y)"
   ]
  },
  {
   "cell_type": "markdown",
   "metadata": {},
   "source": [
    "Homework 8 5 Fold"
   ]
  },
  {
   "cell_type": "code",
   "execution_count": 24,
   "metadata": {},
   "outputs": [
    {
     "data": {
      "image/png": "[encoded data removed]",
      "text/plain": [
       "<Figure size 432x288 with 1 Axes>"
      ]
     },
     "metadata": {
      "needs_background": "light"
     },
     "output_type": "display_data"
    }
   ],
   "source": [
    "def Crossvalof5(X,y):\n",
    "    import random\n",
    "    from sklearn import metrics\n",
    "    from matplotlib import pyplot\n",
    "    from sklearn.model_selection import KFold\n",
    "    X, y = np.array(X), np.array(y)\n",
    "    fold_counter = 0\n",
    "    kf = KFold(n_splits=5)\n",
    "   # kf = KFold(n_splits=5, shuffle=True, random_state=0)\n",
    "    for train, test in kf.split(X):\n",
    "  #  for train, test in KFold(len(X),3,shuffle=True):\n",
    "        training_X, training_y = X[train], y[train]\n",
    "        test_X, test_y = X[test], y[test]\n",
    "        \n",
    "        classifier = RandomForestClassifier()\n",
    "        classifier.fit(training_X,training_y)\n",
    "        scores = classifier.predict_proba(test_X)[:,-1]\n",
    "        fpr, tpr, thresholds = metrics.roc_curve(test_y, scores)\n",
    "        pyplot.semilogx(fpr,tpr,label=\"Fold number {0}\".format(fold_counter))\n",
    "        fold_counter += 1\n",
    "\n",
    " \n",
    "\n",
    "\n",
    "    \n",
    "    pyplot.xlabel(\"Detector false positive rate\")\n",
    "    pyplot.ylabel(\"Detector true positive rate\")\n",
    "    pyplot.title(\"Cross-Validation Detector ROC Curve\")\n",
    "    pyplot.legend()\n",
    "    pyplot.grid() \n",
    "    pyplot.show()\n",
    "Crossvalof5(X,y)"
   ]
  },
  {
   "cell_type": "code",
   "execution_count": null,
   "metadata": {},
   "outputs": [],
   "source": []
  }
 ],
 "metadata": {
  "kernelspec": {
   "display_name": "Python 3",
   "language": "python",
   "name": "python3"
  },
  "language_info": {
   "codemirror_mode": {
    "name": "ipython",
    "version": 3
   },
   "file_extension": ".py",
   "mimetype": "text/x-python",
   "name": "python",
   "nbconvert_exporter": "python",
   "pygments_lexer": "ipython3",
   "version": "3.8.5"
  }
 },
 "nbformat": 4,
 "nbformat_minor": 4
}
